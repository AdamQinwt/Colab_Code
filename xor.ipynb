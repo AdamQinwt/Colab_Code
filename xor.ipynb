{
  "nbformat": 4,
  "nbformat_minor": 0,
  "metadata": {
    "colab": {
      "name": "xor.ipynb",
      "version": "0.3.2",
      "provenance": [],
      "collapsed_sections": [],
      "include_colab_link": true
    },
    "kernelspec": {
      "name": "python3",
      "display_name": "Python 3"
    }
  },
  "cells": [
    {
      "cell_type": "markdown",
      "metadata": {
        "id": "view-in-github",
        "colab_type": "text"
      },
      "source": [
        "<a href=\"https://colab.research.google.com/github/AdamQinwt/Colab_Code/blob/master/xor.ipynb\" target=\"_parent\"><img src=\"https://colab.research.google.com/assets/colab-badge.svg\" alt=\"Open In Colab\"/></a>"
      ]
    },
    {
      "cell_type": "markdown",
      "metadata": {
        "id": "0yO8yHCp3t7q",
        "colab_type": "text"
      },
      "source": [
        "# imports"
      ]
    },
    {
      "cell_type": "code",
      "metadata": {
        "id": "ELc_CLu_3MPO",
        "colab_type": "code",
        "colab": {
          "base_uri": "https://localhost:8080/",
          "height": 34
        },
        "outputId": "55f29a3d-906a-4a09-a2ef-4656af100a65"
      },
      "source": [
        "import tensorflow as tf\n",
        "import numpy as np\n",
        "import os\n",
        "print(tf.VERSION)"
      ],
      "execution_count": 2,
      "outputs": [
        {
          "output_type": "stream",
          "text": [
            "1.14.0\n"
          ],
          "name": "stdout"
        }
      ]
    },
    {
      "cell_type": "markdown",
      "metadata": {
        "id": "gQ2bQQcm33CT",
        "colab_type": "text"
      },
      "source": [
        "# model"
      ]
    },
    {
      "cell_type": "code",
      "metadata": {
        "id": "0wNXHOHR35RT",
        "colab_type": "code",
        "colab": {}
      },
      "source": [
        "def create_model():\n",
        "    inputs = tf.keras.Input(shape=(2,))  # Returns a placeholder tensor\n",
        "\n",
        "    # A layer instance is callable on a tensor, and returns a tensor.\n",
        "    x = tf.keras.layers.Dense(3, activation='sigmoid')(inputs)\n",
        "    x = tf.keras.layers.Dense(3, activation='sigmoid')(x)\n",
        "    predictions = tf.keras.layers.Dense(1, activation='sigmoid')(x)\n",
        "    model = tf.keras.Model(inputs=inputs, outputs=predictions)\n",
        "    return model"
      ],
      "execution_count": 0,
      "outputs": []
    },
    {
      "cell_type": "markdown",
      "metadata": {
        "id": "BhEmUm-J4S59",
        "colab_type": "text"
      },
      "source": [
        "# define inputs"
      ]
    },
    {
      "cell_type": "code",
      "metadata": {
        "id": "xQCWdyzL4TXM",
        "colab_type": "code",
        "colab": {
          "base_uri": "https://localhost:8080/",
          "height": 54
        },
        "outputId": "138a4c3b-8700-402e-8031-326b964e2bc6"
      },
      "source": [
        "x=np.array([[1.0,0.0],[1.0,1.0],[0.0,0.0],[0.0,1.0],[1.0,0.0],[1.0,1.0],[0.0,0.0],[0.0,1.0]])\n",
        "y_=np.array([[1.0],[0.0],[0.0],[1.0],[1.0],[0.0],[0.0],[1.0]])\n",
        "\n",
        "'''\n",
        "resolver = tf.contrib.cluster_resolver.TPUClusterResolver('grpc://' + os.environ['COLAB_TPU_ADDR'])\n",
        "tf.contrib.distribute.initialize_tpu_system(resolver)\n",
        "strategy = tf.contrib.distribute.TPUStrategy(resolver)'''"
      ],
      "execution_count": 4,
      "outputs": [
        {
          "output_type": "execute_result",
          "data": {
            "text/plain": [
              "\"\\nresolver = tf.contrib.cluster_resolver.TPUClusterResolver('grpc://' + os.environ['COLAB_TPU_ADDR'])\\ntf.contrib.distribute.initialize_tpu_system(resolver)\\nstrategy = tf.contrib.distribute.TPUStrategy(resolver)\""
            ]
          },
          "metadata": {
            "tags": []
          },
          "execution_count": 4
        }
      ]
    },
    {
      "cell_type": "code",
      "metadata": {
        "id": "S8MBPU8FAWKb",
        "colab_type": "code",
        "colab": {}
      },
      "source": [
        "\n",
        "'''with strategy.scope():\n",
        "  model = create_model()\n",
        "  model.compile(\n",
        "      optimizer=tf.keras.optimizers.Adam(learning_rate=1e-3, ),\n",
        "      loss='binary_crossentropy',\n",
        "      metrics=['binary_crossentropy'])'''\n",
        "\n",
        "model = create_model()\n",
        "model.compile(\n",
        "    optimizer=tf.keras.optimizers.Adam(learning_rate=0.3, ),\n",
        "    loss='binary_crossentropy',\n",
        "    metrics=['binary_crossentropy'])\n",
        "model.load_weights('./xor.h5')\n",
        "model.fit(\n",
        "    x.astype(np.float32), y_.astype(np.float32),epochs=1000, batch_size=8\n",
        ")\n",
        "\n",
        "model.save_weights('./xor.h5', overwrite=True)"
      ],
      "execution_count": 0,
      "outputs": []
    },
    {
      "cell_type": "code",
      "metadata": {
        "id": "dMpnedeBDi4-",
        "colab_type": "code",
        "colab": {
          "base_uri": "https://localhost:8080/",
          "height": 151
        },
        "outputId": "f4c0e8a3-294d-4bf5-81ca-f9713ad6744a"
      },
      "source": [
        "cpu_model = create_model()\n",
        "cpu_model.load_weights('./xor.h5')\n",
        "prediction=cpu_model.predict(x[:4])\n",
        "for i in range(4):\n",
        "  print('x='+str(x[i]))\n",
        "  print('y='+str(prediction[i]))"
      ],
      "execution_count": 10,
      "outputs": [
        {
          "output_type": "stream",
          "text": [
            "x=[1. 0.]\n",
            "y=[0.99999213]\n",
            "x=[1. 1.]\n",
            "y=[6.6011344e-05]\n",
            "x=[0. 0.]\n",
            "y=[2.3546509e-05]\n",
            "x=[0. 1.]\n",
            "y=[0.99999213]\n"
          ],
          "name": "stdout"
        }
      ]
    }
  ]
}